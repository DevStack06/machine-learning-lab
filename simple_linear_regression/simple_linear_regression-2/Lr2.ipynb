{
 "cells": [
  {
   "cell_type": "code",
   "execution_count": 1,
   "metadata": {},
   "outputs": [],
   "source": [
    "import pandas as pd\n",
    "import numpy as np\n",
    "from sklearn import datasets, linear_model\n",
    "from sklearn.model_selection import train_test_split\n",
    "from matplotlib import pyplot as plt\n",
    "import statsmodels.api as sm\n",
    "from sklearn.metrics import mean_squared_error"
   ]
  },
  {
   "cell_type": "code",
   "execution_count": 2,
   "metadata": {},
   "outputs": [
    {
     "name": "stdout",
     "output_type": "stream",
     "text": [
      "   sex  dose  response  Dose_Sex\n",
      "0    1   0.1     13.75     1.375\n",
      "1    1   0.2     12.90     2.580\n",
      "2    1   0.3     19.26     5.778\n",
      "3    1   0.4     20.34     8.136\n",
      "4    1   0.5     19.97     9.985\n",
      "\n",
      "Root Mean Square Error :  12.969835452932834\n",
      "\n",
      "\n",
      "                            OLS Regression Results                            \n",
      "==============================================================================\n",
      "Dep. Variable:               response   R-squared:                       0.987\n",
      "Model:                            OLS   Adj. R-squared:                  0.987\n",
      "Method:                 Least Squares   F-statistic:                 3.355e+04\n",
      "Date:                Tue, 30 Apr 2019   Prob (F-statistic):               0.00\n",
      "Time:                        10:37:11   Log-Likelihood:                -5109.3\n",
      "No. Observations:                1280   AIC:                         1.022e+04\n",
      "Df Residuals:                    1277   BIC:                         1.024e+04\n",
      "Df Model:                           3                                         \n",
      "Covariance Type:            nonrobust                                         \n",
      "==============================================================================\n",
      "                 coef    std err          t      P>|t|      [0.025      0.975]\n",
      "------------------------------------------------------------------------------\n",
      "sex           56.4742      0.769     73.416      0.000      54.965      57.983\n",
      "dose           1.8520      0.101     18.422      0.000       1.655       2.049\n",
      "Dose_Sex       0.0835      0.001    111.161      0.000       0.082       0.085\n",
      "==============================================================================\n",
      "Omnibus:                      177.010   Durbin-Watson:                   2.037\n",
      "Prob(Omnibus):                  0.000   Jarque-Bera (JB):              266.874\n",
      "Skew:                          -0.966   Prob(JB):                     1.12e-58\n",
      "Kurtosis:                       4.128   Cond. No.                     1.88e+03\n",
      "==============================================================================\n",
      "\n",
      "Warnings:\n",
      "[1] Standard Errors assume that the covariance matrix of the errors is correctly specified.\n",
      "[2] The condition number is large, 1.88e+03. This might indicate that there are\n",
      "strong multicollinearity or other numerical problems.\n"
     ]
    }
   ],
   "source": [
    "df = pd.read_csv('drug2.csv')\n",
    "dose_sex = []\n",
    "for i in range(len(df)):\n",
    "    dose_sex.append(df.dose[i]*df.response[i])\n",
    "df['Dose_Sex']=dose_sex    \n",
    "print(df.head())\n",
    "x = df[['sex','dose','Dose_Sex']]\n",
    "y = df['response']\n",
    "\n",
    "\n",
    "X_train, X_test, y_train, y_test = train_test_split(x,y,test_size=0.6)\n",
    "\n",
    "\n",
    "# Note the difference in argument order\n",
    "model = sm.OLS(y_train, X_train).fit()\n",
    "predictions = model.predict(X_test) # make the predictions by the model\n",
    "\n",
    "# Print out the statistics\n",
    "\n",
    "print(\"\\nRoot Mean Square Error : \",np.sqrt(mean_squared_error(y_test, predictions.tolist())))\n",
    "print('\\n')\n",
    "print(model.summary())\n",
    "\n",
    "\n"
   ]
  },
  {
   "cell_type": "code",
   "execution_count": 3,
   "metadata": {},
   "outputs": [
    {
     "name": "stdout",
     "output_type": "stream",
     "text": [
      "      Real Value  Predicted Value      Error\n",
      "2419       62.89        70.678404  -7.788404\n",
      "1826       83.59        80.315649   3.274351\n",
      "4          19.97        58.233722 -38.263722\n",
      "1283      234.59       236.535163  -1.945163\n",
      "1663      184.01       166.639645  17.370355\n",
      "58        169.94       151.102946  18.837054\n",
      "1308        8.51         2.306171   6.203829\n",
      "781        24.34        31.848133  -7.508133\n",
      "3069      201.60       187.246693  14.353307\n",
      "1350       23.10        19.280051   3.819949\n",
      "1313        9.22         3.670357   5.549643\n",
      "2957       20.45        20.643227  -0.193227\n",
      "590        33.54        42.332703  -8.792703\n",
      "1075      211.01       204.426006   6.583994\n",
      "2355       22.33        20.810281   1.519719\n",
      "1492      260.97       276.308180 -15.338180\n",
      "1933       14.06        10.287490   3.772510\n",
      "3053      156.83       137.173592  19.656408\n",
      "2400       14.73        56.782336 -42.052336\n",
      "3164       24.22        25.180356  -0.960356\n"
     ]
    }
   ],
   "source": [
    "d = {'Real Value':y_test,'Predicted Value':predictions.tolist(),'Error':np.subtract(y_test,predictions.tolist())}\n",
    "Pred = pd.DataFrame(data=d)\n",
    "print(Pred.head(20))\n"
   ]
  },
  {
   "cell_type": "code",
   "execution_count": 4,
   "metadata": {},
   "outputs": [
    {
     "data": {
      "text/plain": [
       "[<matplotlib.lines.Line2D at 0x7f4a2d050a20>,\n",
       " <matplotlib.lines.Line2D at 0x7f4a28e7b5c0>,\n",
       " <matplotlib.lines.Line2D at 0x7f4a28e7b710>]"
      ]
     },
     "execution_count": 4,
     "metadata": {},
     "output_type": "execute_result"
    },
    {
     "data": {
      "image/png": "[encoded data removed]",
      "text/plain": [
       "<Figure size 432x288 with 1 Axes>"
      ]
     },
     "metadata": {
      "needs_background": "light"
     },
     "output_type": "display_data"
    }
   ],
   "source": [
    "plt.plot(X_test,predictions.tolist(), color='black', linewidth=3)\n"
   ]
  },
  {
   "cell_type": "code",
   "execution_count": 5,
   "metadata": {},
   "outputs": [
    {
     "data": {
      "text/plain": [
       "(array([245., 234., 300., 207., 119., 136., 113.,  53., 101.,  87., 140.,\n",
       "         44.,  14.,  20.,  11.,  18.,  11.,  10.,   9.,   1.,   7.,  21.,\n",
       "          4.,   4.,   6.,   5.]),\n",
       " array([2.19098652e-02, 1.80386393e+00, 3.58581800e+00, 5.36777207e+00,\n",
       "        7.14972614e+00, 8.93168021e+00, 1.07136343e+01, 1.24955884e+01,\n",
       "        1.42775424e+01, 1.60594965e+01, 1.78414506e+01, 1.96234046e+01,\n",
       "        2.14053587e+01, 2.31873128e+01, 2.49692668e+01, 2.67512209e+01,\n",
       "        2.85331750e+01, 3.03151290e+01, 3.20970831e+01, 3.38790372e+01,\n",
       "        3.56609913e+01, 3.74429453e+01, 3.92248994e+01, 4.10068535e+01,\n",
       "        4.27888075e+01, 4.45707616e+01, 4.63527157e+01]),\n",
       " <a list of 26 Patch objects>)"
      ]
     },
     "execution_count": 5,
     "metadata": {},
     "output_type": "execute_result"
    },
    {
     "data": {
      "image/png": "[encoded data removed]",
      "text/plain": [
       "<Figure size 1440x720 with 1 Axes>"
      ]
     },
     "metadata": {
      "needs_background": "light"
     },
     "output_type": "display_data"
    }
   ],
   "source": [
    "#Gaussian Plot to check error distribution\n",
    "error = Pred.Error.tolist()\n",
    "error = [abs(error[i]) for i in range(len(Pred))]\n",
    "plt.figure(figsize=(20,10))\n",
    "plt.hist(error,bins='auto')"
   ]
  }
 ],
 "metadata": {
  "kernelspec": {
   "display_name": "Python 3",
   "language": "python",
   "name": "python3"
  },
  "language_info": {
   "codemirror_mode": {
    "name": "ipython",
    "version": 3
   },
   "file_extension": ".py",
   "mimetype": "text/x-python",
   "name": "python",
   "nbconvert_exporter": "python",
   "pygments_lexer": "ipython3",
   "version": "3.7.1"
  }
 },
 "nbformat": 4,
 "nbformat_minor": 2
}
